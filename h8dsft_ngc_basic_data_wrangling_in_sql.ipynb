{
 "cells": [
  {
   "cell_type": "markdown",
   "metadata": {},
   "source": [
    "Nama: Lita\n",
    "Batch: 038"
   ]
  },
  {
   "cell_type": "markdown",
   "metadata": {},
   "source": [
    "```sql\n",
    "\n",
    "CREATE TABLE Customers (\n",
    "\tcustomer_id SERIAL PRIMARY KEY, \n",
    "\tcustomer_name VARCHAR(50),\n",
    "\tcity VARCHAR(50)\n",
    ");\n",
    "\n",
    "CREATE TABLE Orders (\n",
    "\torder_id SERIAL PRIMARY KEY, \n",
    "\tcustomer_id INT REFERENCES Customers(customer_id),\n",
    "\torder_date DATE,\n",
    "\ttotal_amount NUMERIC(10,2)\n",
    ");\n",
    "\n",
    "INSERT INTO Customers (customer_name, city)\n",
    "VALUES \n",
    "\t('John Doe', 'New York'),\n",
    "\t('Jane Smith', 'Los Angeles'),\n",
    "\t('David Johnson', 'Chicago');\n",
    "\n",
    "INSERT INTO Orders (customer_id, order_date, total_amount)\n",
    "VALUES \n",
    "\t(1, '2022-02-10', 100.00),\n",
    "\t(1, '2022-02-15', 150.00),\n",
    "\t(2, '2022-03-20', 200.00),\n",
    "\t(3, '2022-04-25', 500.00);\n",
    "\n",
    "SELECT c.customer_name, COUNT(o.order_id) AS total_orders\n",
    "FROM Customers c\n",
    "LEFT JOIN Orders o ON c.customer_id = o.customer_id\n",
    "GROUP BY c.customer_name\n",
    "order by c.customer_name DESC;\n",
    "\n",
    "```"
   ]
  }
 ],
 "metadata": {
  "language_info": {
   "name": "python"
  }
 },
 "nbformat": 4,
 "nbformat_minor": 2
}
