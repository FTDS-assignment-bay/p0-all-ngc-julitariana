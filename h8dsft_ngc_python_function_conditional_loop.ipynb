{
 "cells": [
  {
   "cell_type": "markdown",
   "metadata": {},
   "source": [
    "# Task #1 - Number of Word"
   ]
  },
  {
   "cell_type": "code",
   "execution_count": 5,
   "metadata": {},
   "outputs": [
    {
     "data": {
      "text/plain": [
       "4"
      ]
     },
     "execution_count": 5,
     "metadata": {},
     "output_type": "execute_result"
    }
   ],
   "source": [
    "def number_of_word(sen):\n",
    "    '''\n",
    "    split kalimat yang ada\n",
    "    '''\n",
    "    list = sen.split()\n",
    "    return (len(list))\n",
    "\n",
    "sen = \"Halo semuanya apa kabar\"\n",
    "\n",
    "number_of_word(sen)"
   ]
  },
  {
   "cell_type": "markdown",
   "metadata": {},
   "source": [
    "# Task #2 - Find Multiple"
   ]
  },
  {
   "cell_type": "code",
   "execution_count": 7,
   "metadata": {},
   "outputs": [
    {
     "name": "stdout",
     "output_type": "stream",
     "text": [
      "2\n",
      "4\n",
      "6\n",
      "8\n",
      "10\n",
      "12\n",
      "14\n",
      "16\n",
      "18\n",
      "20\n",
      "22\n",
      "24\n",
      "26\n",
      "28\n",
      "30\n",
      "32\n",
      "34\n",
      "36\n",
      "38\n",
      "40\n",
      "42\n",
      "44\n"
     ]
    }
   ],
   "source": [
    "def find_multiples(start_range, end_range, multiple):\n",
    "    '''\n",
    "    mencari angka dengan awalan, akhiran, dan kelipatan yang ditentukan oleh user\n",
    "    '''\n",
    "    x = range(int(start_range), int(end_range) + 1, int(multiple))\n",
    "    for n in x:\n",
    "        print(n)\n",
    "\n",
    "start_range = 2 \n",
    "end_range = 45\n",
    "multiple = 2\n",
    "\n",
    "find_multiples(start_range, end_range, multiple)"
   ]
  },
  {
   "cell_type": "markdown",
   "metadata": {},
   "source": [
    "# Task #3 - Grade Converter"
   ]
  },
  {
   "cell_type": "code",
   "execution_count": null,
   "metadata": {},
   "outputs": [],
   "source": [
    "def Grade_Converter(convert_to, **name_score):\n",
    "    '''\n",
    "    Operasi untuk mencari grade dan gpa berdasarkan nilai yang ada, \n",
    "    dengan aturan yang sudah ditentukan\n",
    "    '''\n",
    "    for key, value in name_score.items():\n",
    "        if convert_to == 'letter_grade':\n",
    "            if value >= 85 and value <=100:\n",
    "                print(key, \": A\")\n",
    "            elif value >= 70 and value < 85:\n",
    "                print(key, \": B\")\n",
    "            elif value >= 60 and value < 70:\n",
    "                print(key, \": C\")\n",
    "            elif value >= 50 and value < 60:\n",
    "                print(key, \": D\")\n",
    "            elif value >= 40 and value < 50:\n",
    "                print(key, \": E\")\n",
    "            elif value >= 0 and value < 40:\n",
    "                print(key, \": F\")\n",
    "            else: print(\"nilai diluar range yang ada\")\n",
    "        elif convert_to == 'gpa':\n",
    "            if value >= 85 and value <=100:\n",
    "                print(key, \": 4\")\n",
    "            elif value >= 70 and value < 85:\n",
    "                print(key, \": 3\")\n",
    "            elif value >= 60 and value < 70:\n",
    "                print(key, \": 2.5\")\n",
    "            elif value >= 50 and value < 60:\n",
    "                print(key, \": 2\")\n",
    "            elif value >= 40 and value < 50:\n",
    "                print(key, \": 1.5\")\n",
    "            elif value >= 0 and value < 40:\n",
    "                print(key, \": 1\")\n",
    "            else: print(\"nilai diluar range yang ada\")\n",
    "        else: print(\"nilai tidak dapat digolongkan\")\n",
    "Grade_Converter(\"letter_grade\", Albert=90, Dwi = 82, Syahdan=58, Veronica=84)"
   ]
  },
  {
   "cell_type": "markdown",
   "metadata": {},
   "source": [
    "# Task #4 - Fibonacci Sequence"
   ]
  },
  {
   "cell_type": "code",
   "execution_count": 41,
   "metadata": {},
   "outputs": [
    {
     "data": {
      "text/plain": [
       "55"
      ]
     },
     "execution_count": 41,
     "metadata": {},
     "output_type": "execute_result"
    }
   ],
   "source": [
    "def fibonacci(number):\n",
    "    '''\n",
    "    operasi untuk mencari jumlah angka berdasarkan angka kesekian yang ditentukan oleh user\n",
    "    '''\n",
    "    if number == 0:\n",
    "        return 0\n",
    "    elif number == 1 or number ==2:\n",
    "        return 1 \n",
    "    elif number < 0:\n",
    "        return(\"invalid\")\n",
    "    else:\n",
    "        num1 = 0\n",
    "        num2 = 1\n",
    "        num3 = 0\n",
    "        num = 1\n",
    "        while num < number:\n",
    "            num3 = num1 + num2\n",
    "            num1 = num2\n",
    "            num2 = num3\n",
    "            num += 1\n",
    "        return num3\n",
    "\n",
    "fibonacci(10)"
   ]
  }
 ],
 "metadata": {
  "kernelspec": {
   "display_name": "base",
   "language": "python",
   "name": "python3"
  },
  "language_info": {
   "codemirror_mode": {
    "name": "ipython",
    "version": 3
   },
   "file_extension": ".py",
   "mimetype": "text/x-python",
   "name": "python",
   "nbconvert_exporter": "python",
   "pygments_lexer": "ipython3",
   "version": "3.9.19"
  }
 },
 "nbformat": 4,
 "nbformat_minor": 2
}
